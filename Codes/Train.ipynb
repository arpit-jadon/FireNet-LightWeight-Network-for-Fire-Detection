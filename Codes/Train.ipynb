{
 "cells": [
  {
   "cell_type": "code",
   "execution_count": 8,
   "metadata": {},
   "outputs": [
    {
     "name": "stdout",
     "output_type": "stream",
     "text": [
      "Fire  NoFire\r\n"
     ]
    }
   ],
   "source": [
    "! ls Datasets/scrapped/All\n"
   ]
  },
  {
   "cell_type": "code",
   "execution_count": 9,
   "metadata": {},
   "outputs": [],
   "source": [
    "import os\n",
    "import cv2\n",
    "import numpy as np\n",
    "from tqdm import tqdm"
   ]
  },
  {
   "cell_type": "code",
   "execution_count": 10,
   "metadata": {},
   "outputs": [],
   "source": [
    "DATADIR = 'Datasets/scrapped/All'\n",
    "CATEGORIES = ['Fire', 'NoFire']"
   ]
  },
  {
   "cell_type": "code",
   "execution_count": 11,
   "metadata": {},
   "outputs": [],
   "source": [
    "IMG_SIZE = 64\n",
    "def create_training_data():\n",
    "    training_data = []\n",
    "    for category in CATEGORIES:  \n",
    "\n",
    "        path = os.path.join(DATADIR,category) \n",
    "        class_num = CATEGORIES.index(category)  # get the classification  (0 or a 1). 0=C 1=O\n",
    "\n",
    "        for img in tqdm(os.listdir(path)):  # iterate over each image\n",
    "            try:\n",
    "                img_array = cv2.imread(os.path.join(path,img))  # convert to array\n",
    "                new_array = cv2.resize(img_array, (IMG_SIZE, IMG_SIZE))  # resize to normalize data size\n",
    "                training_data.append([new_array, class_num])  # add this to our training_data\n",
    "            except Exception as e:  # in the interest in keeping the output clean...\n",
    "                pass\n",
    "              \n",
    "    return training_data"
   ]
  },
  {
   "cell_type": "code",
   "execution_count": 12,
   "metadata": {},
   "outputs": [
    {
     "name": "stderr",
     "output_type": "stream",
     "text": [
      "100%|██████████| 1125/1125 [00:13<00:00, 82.54it/s]\n",
      "100%|██████████| 1300/1300 [00:28<00:00, 45.85it/s]\n"
     ]
    }
   ],
   "source": [
    "training_data = create_training_data()\n"
   ]
  },
  {
   "cell_type": "code",
   "execution_count": 13,
   "metadata": {},
   "outputs": [
    {
     "name": "stdout",
     "output_type": "stream",
     "text": [
      "2423\n",
      "1\n",
      "1\n",
      "1\n",
      "1\n",
      "1\n",
      "1\n",
      "1\n",
      "1\n",
      "0\n",
      "0\n"
     ]
    }
   ],
   "source": [
    "import random\n",
    "\n",
    "print(len(training_data))\n",
    "random.shuffle(training_data)\n",
    "for sample in training_data[:10]:\n",
    "    print(sample[1])"
   ]
  },
  {
   "cell_type": "code",
   "execution_count": 14,
   "metadata": {},
   "outputs": [
    {
     "data": {
      "text/plain": [
       "(64, 64, 3)"
      ]
     },
     "execution_count": 14,
     "metadata": {},
     "output_type": "execute_result"
    }
   ],
   "source": [
    "X = []\n",
    "Y = []\n",
    "Y = np.array(Y)\n",
    "\n",
    "for features,label in training_data:\n",
    "    X.append(features)\n",
    "    Y.append(label)\n",
    "\n",
    "X = np.array(X).reshape(-1, IMG_SIZE, IMG_SIZE, 3)\n",
    "X = X/255.0\n",
    "X.shape[1:]"
   ]
  },
  {
   "cell_type": "code",
   "execution_count": 15,
   "metadata": {},
   "outputs": [],
   "source": [
    "# # set up image augmentation\n",
    "# from keras.preprocessing.image import ImageDataGenerator\n",
    "\n",
    "# datagen = ImageDataGenerator(\n",
    "#     rotation_range=15,\n",
    "#     horizontal_flip=True,\n",
    "#     width_shift_range=0.1,\n",
    "#     height_shift_range=0.1\n",
    "#     #zoom_range=0.3\n",
    "#     )\n",
    "# datagen.fit(X)"
   ]
  },
  {
   "cell_type": "code",
   "execution_count": 19,
   "metadata": {},
   "outputs": [],
   "source": [
    "import tensorflow as tf\n",
    "from tensorflow.keras.datasets import cifar10\n",
    "from tensorflow.keras.preprocessing.image import ImageDataGenerator\n",
    "from tensorflow.keras.models import Sequential\n",
    "from tensorflow.keras.layers import Dense, Dropout, Activation, Flatten\n",
    "from tensorflow.keras.layers import Conv2D, AveragePooling2D\n",
    "\n",
    "model = Sequential()\n",
    "\n",
    "\n",
    "model.add(Conv2D(filters=16, kernel_size=(3, 3), activation='relu', input_shape=X.shape[1:]))\n",
    "model.add(AveragePooling2D())\n",
    "model.add(Dropout(0.5))\n",
    "\n",
    "model.add(Conv2D(filters=32, kernel_size=(3, 3), activation='relu'))\n",
    "model.add(AveragePooling2D())\n",
    "model.add(Dropout(0.5))\n",
    "\n",
    "model.add(Conv2D(filters=64, kernel_size=(3, 3), activation='relu'))\n",
    "model.add(AveragePooling2D())\n",
    "model.add(Dropout(0.5))\n",
    "\n",
    "model.add(Flatten())\n",
    "\n",
    "model.add(Dense(units=256, activation='relu'))\n",
    "model.add(Dropout(0.2))\n",
    "\n",
    "model.add(Dense(units=128, activation='relu'))\n",
    "\n",
    "model.add(Dense(units=2, activation = 'softmax'))\n",
    "\n",
    "model.compile(loss='sparse_categorical_crossentropy',\n",
    "              optimizer='adam',\n",
    "              metrics=['accuracy'])\n",
    "\n",
    "\n"
   ]
  },
  {
   "cell_type": "code",
   "execution_count": 20,
   "metadata": {},
   "outputs": [
    {
     "name": "stdout",
     "output_type": "stream",
     "text": [
      "Train on 1696 samples, validate on 727 samples\n",
      "Epoch 1/100\n",
      "1696/1696 [==============================] - 6s 4ms/sample - loss: 0.5822 - acc: 0.7005 - val_loss: 0.5330 - val_acc: 0.7400\n",
      "Epoch 2/100\n",
      "1696/1696 [==============================] - 5s 3ms/sample - loss: 0.5092 - acc: 0.7612 - val_loss: 0.5650 - val_acc: 0.7125\n",
      "Epoch 3/100\n",
      "1696/1696 [==============================] - 5s 3ms/sample - loss: 0.4913 - acc: 0.7659 - val_loss: 0.4808 - val_acc: 0.7978\n",
      "Epoch 4/100\n",
      "1696/1696 [==============================] - 5s 3ms/sample - loss: 0.4501 - acc: 0.7989 - val_loss: 0.4579 - val_acc: 0.7964\n",
      "Epoch 5/100\n",
      "1696/1696 [==============================] - 5s 3ms/sample - loss: 0.4153 - acc: 0.8137 - val_loss: 0.4099 - val_acc: 0.8143\n",
      "Epoch 6/100\n",
      "1696/1696 [==============================] - 5s 3ms/sample - loss: 0.3929 - acc: 0.8202 - val_loss: 0.4180 - val_acc: 0.8047\n",
      "Epoch 7/100\n",
      "1696/1696 [==============================] - 5s 3ms/sample - loss: 0.3739 - acc: 0.8296 - val_loss: 0.3918 - val_acc: 0.8239\n",
      "Epoch 8/100\n",
      "1696/1696 [==============================] - 5s 3ms/sample - loss: 0.3608 - acc: 0.8337 - val_loss: 0.3773 - val_acc: 0.8267\n",
      "Epoch 9/100\n",
      "1696/1696 [==============================] - 5s 3ms/sample - loss: 0.3198 - acc: 0.8555 - val_loss: 0.3551 - val_acc: 0.8404\n",
      "Epoch 10/100\n",
      "1696/1696 [==============================] - 5s 3ms/sample - loss: 0.3259 - acc: 0.8561 - val_loss: 0.3386 - val_acc: 0.8542\n",
      "Epoch 11/100\n",
      "1696/1696 [==============================] - 5s 3ms/sample - loss: 0.3033 - acc: 0.8703 - val_loss: 0.3201 - val_acc: 0.8597\n",
      "Epoch 12/100\n",
      "1696/1696 [==============================] - 6s 3ms/sample - loss: 0.2954 - acc: 0.8756 - val_loss: 0.3085 - val_acc: 0.8666\n",
      "Epoch 13/100\n",
      "1696/1696 [==============================] - 5s 3ms/sample - loss: 0.2663 - acc: 0.8844 - val_loss: 0.2956 - val_acc: 0.8735\n",
      "Epoch 14/100\n",
      "1696/1696 [==============================] - 6s 3ms/sample - loss: 0.2693 - acc: 0.8785 - val_loss: 0.3712 - val_acc: 0.8432\n",
      "Epoch 15/100\n",
      "1696/1696 [==============================] - 6s 3ms/sample - loss: 0.2742 - acc: 0.8874 - val_loss: 0.3055 - val_acc: 0.8556\n",
      "Epoch 16/100\n",
      "1696/1696 [==============================] - 5s 3ms/sample - loss: 0.2258 - acc: 0.9092 - val_loss: 0.2868 - val_acc: 0.8817\n",
      "Epoch 17/100\n",
      "1696/1696 [==============================] - 6s 4ms/sample - loss: 0.2208 - acc: 0.9021 - val_loss: 0.2548 - val_acc: 0.8941\n",
      "Epoch 18/100\n",
      "1696/1696 [==============================] - 6s 3ms/sample - loss: 0.2083 - acc: 0.9062 - val_loss: 0.2507 - val_acc: 0.9133\n",
      "Epoch 19/100\n",
      "1696/1696 [==============================] - 6s 3ms/sample - loss: 0.2136 - acc: 0.9121 - val_loss: 0.2700 - val_acc: 0.8762\n",
      "Epoch 20/100\n",
      "1696/1696 [==============================] - 6s 3ms/sample - loss: 0.2047 - acc: 0.9169 - val_loss: 0.3012 - val_acc: 0.8611\n",
      "Epoch 21/100\n",
      "1696/1696 [==============================] - 5s 3ms/sample - loss: 0.1713 - acc: 0.9363 - val_loss: 0.2838 - val_acc: 0.9120\n",
      "Epoch 22/100\n",
      "1696/1696 [==============================] - 5s 3ms/sample - loss: 0.1878 - acc: 0.9257 - val_loss: 0.2754 - val_acc: 0.8886\n",
      "Epoch 23/100\n",
      "1696/1696 [==============================] - 5s 3ms/sample - loss: 0.1559 - acc: 0.9357 - val_loss: 0.3017 - val_acc: 0.8858\n",
      "Epoch 24/100\n",
      "1696/1696 [==============================] - 6s 4ms/sample - loss: 0.1622 - acc: 0.9404 - val_loss: 0.3397 - val_acc: 0.8955\n",
      "Epoch 25/100\n",
      "1696/1696 [==============================] - 5s 3ms/sample - loss: 0.1526 - acc: 0.9346 - val_loss: 0.2745 - val_acc: 0.9010\n",
      "Epoch 26/100\n",
      "1696/1696 [==============================] - 5s 3ms/sample - loss: 0.1328 - acc: 0.9487 - val_loss: 0.2538 - val_acc: 0.9120\n",
      "Epoch 27/100\n",
      "1696/1696 [==============================] - 5s 3ms/sample - loss: 0.1521 - acc: 0.9381 - val_loss: 0.2640 - val_acc: 0.9023\n",
      "Epoch 28/100\n",
      "1696/1696 [==============================] - 5s 3ms/sample - loss: 0.1235 - acc: 0.9540 - val_loss: 0.2947 - val_acc: 0.9188\n",
      "Epoch 29/100\n",
      "1696/1696 [==============================] - 5s 3ms/sample - loss: 0.1079 - acc: 0.9564 - val_loss: 0.2842 - val_acc: 0.9175\n",
      "Epoch 30/100\n",
      "1696/1696 [==============================] - 5s 3ms/sample - loss: 0.1422 - acc: 0.9399 - val_loss: 0.2663 - val_acc: 0.9023\n",
      "Epoch 31/100\n",
      "1696/1696 [==============================] - 6s 3ms/sample - loss: 0.1083 - acc: 0.9593 - val_loss: 0.2965 - val_acc: 0.9078\n",
      "Epoch 32/100\n",
      "1696/1696 [==============================] - 5s 3ms/sample - loss: 0.1207 - acc: 0.9511 - val_loss: 0.3338 - val_acc: 0.8666\n",
      "Epoch 33/100\n",
      "1696/1696 [==============================] - 5s 3ms/sample - loss: 0.1017 - acc: 0.9570 - val_loss: 0.2600 - val_acc: 0.9188\n",
      "Epoch 34/100\n",
      "1696/1696 [==============================] - 5s 3ms/sample - loss: 0.0935 - acc: 0.9670 - val_loss: 0.2853 - val_acc: 0.9271\n",
      "Epoch 35/100\n",
      "1696/1696 [==============================] - 5s 3ms/sample - loss: 0.0867 - acc: 0.9676 - val_loss: 0.3384 - val_acc: 0.9175\n",
      "Epoch 36/100\n",
      "1696/1696 [==============================] - 5s 3ms/sample - loss: 0.0873 - acc: 0.9693 - val_loss: 0.2819 - val_acc: 0.9298\n",
      "Epoch 37/100\n",
      "1696/1696 [==============================] - 5s 3ms/sample - loss: 0.1168 - acc: 0.9540 - val_loss: 0.2431 - val_acc: 0.9147\n",
      "Epoch 38/100\n",
      "1696/1696 [==============================] - 5s 3ms/sample - loss: 0.0798 - acc: 0.9705 - val_loss: 0.3161 - val_acc: 0.9051\n",
      "Epoch 39/100\n",
      "1696/1696 [==============================] - 5s 3ms/sample - loss: 0.0766 - acc: 0.9752 - val_loss: 0.3304 - val_acc: 0.9257\n",
      "Epoch 40/100\n",
      "1696/1696 [==============================] - 6s 3ms/sample - loss: 0.0603 - acc: 0.9817 - val_loss: 0.3183 - val_acc: 0.9120\n",
      "Epoch 41/100\n",
      "1696/1696 [==============================] - 5s 3ms/sample - loss: 0.0861 - acc: 0.9705 - val_loss: 0.3396 - val_acc: 0.9202\n",
      "Epoch 42/100\n",
      "1696/1696 [==============================] - 6s 3ms/sample - loss: 0.0873 - acc: 0.9705 - val_loss: 0.3117 - val_acc: 0.9133\n",
      "Epoch 43/100\n",
      "1696/1696 [==============================] - 5s 3ms/sample - loss: 0.0677 - acc: 0.9794 - val_loss: 0.2798 - val_acc: 0.9175\n",
      "Epoch 44/100\n",
      "1696/1696 [==============================] - 6s 3ms/sample - loss: 0.0556 - acc: 0.9800 - val_loss: 0.3612 - val_acc: 0.9188\n",
      "Epoch 45/100\n",
      "1696/1696 [==============================] - 6s 4ms/sample - loss: 0.0654 - acc: 0.9764 - val_loss: 0.3390 - val_acc: 0.9147\n",
      "Epoch 46/100\n",
      "1696/1696 [==============================] - 6s 4ms/sample - loss: 0.0513 - acc: 0.9811 - val_loss: 0.3331 - val_acc: 0.9147\n",
      "Epoch 47/100\n",
      "1696/1696 [==============================] - 6s 4ms/sample - loss: 0.0568 - acc: 0.9811 - val_loss: 0.3554 - val_acc: 0.9243\n",
      "Epoch 48/100\n",
      "1696/1696 [==============================] - 6s 3ms/sample - loss: 0.0543 - acc: 0.9817 - val_loss: 0.3258 - val_acc: 0.9243\n",
      "Epoch 49/100\n",
      "1696/1696 [==============================] - 6s 3ms/sample - loss: 0.1378 - acc: 0.9564 - val_loss: 0.3705 - val_acc: 0.8693\n",
      "Epoch 50/100\n",
      "1696/1696 [==============================] - 6s 3ms/sample - loss: 0.1167 - acc: 0.9570 - val_loss: 0.3245 - val_acc: 0.9161\n",
      "Epoch 51/100\n",
      "1696/1696 [==============================] - 6s 3ms/sample - loss: 0.0597 - acc: 0.9794 - val_loss: 0.3257 - val_acc: 0.9106\n",
      "Epoch 52/100\n",
      "1696/1696 [==============================] - 6s 3ms/sample - loss: 0.0431 - acc: 0.9829 - val_loss: 0.3558 - val_acc: 0.9147\n",
      "Epoch 53/100\n",
      "1696/1696 [==============================] - 6s 3ms/sample - loss: 0.0444 - acc: 0.9823 - val_loss: 0.3471 - val_acc: 0.9202\n",
      "Epoch 54/100\n",
      "1696/1696 [==============================] - 6s 3ms/sample - loss: 0.0573 - acc: 0.9794 - val_loss: 0.3939 - val_acc: 0.9147\n",
      "Epoch 55/100\n",
      "1696/1696 [==============================] - 6s 3ms/sample - loss: 0.0740 - acc: 0.9746 - val_loss: 0.3996 - val_acc: 0.9188\n",
      "Epoch 56/100\n",
      "1696/1696 [==============================] - 5s 3ms/sample - loss: 0.0379 - acc: 0.9870 - val_loss: 0.3645 - val_acc: 0.9133\n",
      "Epoch 57/100\n",
      "1696/1696 [==============================] - 6s 4ms/sample - loss: 0.0483 - acc: 0.9829 - val_loss: 0.3551 - val_acc: 0.9147\n",
      "Epoch 58/100\n",
      "1696/1696 [==============================] - 6s 3ms/sample - loss: 0.0366 - acc: 0.9858 - val_loss: 0.3545 - val_acc: 0.9230\n",
      "Epoch 59/100\n",
      "1696/1696 [==============================] - 6s 3ms/sample - loss: 0.0422 - acc: 0.9864 - val_loss: 0.3977 - val_acc: 0.9188\n",
      "Epoch 60/100\n"
     ]
    },
    {
     "name": "stdout",
     "output_type": "stream",
     "text": [
      "1696/1696 [==============================] - 5s 3ms/sample - loss: 0.0580 - acc: 0.9770 - val_loss: 0.4124 - val_acc: 0.9106\n",
      "Epoch 61/100\n",
      "1696/1696 [==============================] - 5s 3ms/sample - loss: 0.0687 - acc: 0.9782 - val_loss: 0.3142 - val_acc: 0.9271\n",
      "Epoch 62/100\n",
      "1696/1696 [==============================] - 5s 3ms/sample - loss: 0.0403 - acc: 0.9847 - val_loss: 0.3190 - val_acc: 0.9202\n",
      "Epoch 63/100\n",
      "1696/1696 [==============================] - 6s 3ms/sample - loss: 0.0404 - acc: 0.9841 - val_loss: 0.3325 - val_acc: 0.9285\n",
      "Epoch 64/100\n",
      "1696/1696 [==============================] - 6s 3ms/sample - loss: 0.0329 - acc: 0.9876 - val_loss: 0.3929 - val_acc: 0.9188\n",
      "Epoch 65/100\n",
      "1696/1696 [==============================] - 5s 3ms/sample - loss: 0.0231 - acc: 0.9912 - val_loss: 0.4106 - val_acc: 0.9175\n",
      "Epoch 66/100\n",
      "1696/1696 [==============================] - 5s 3ms/sample - loss: 0.0335 - acc: 0.9888 - val_loss: 0.3935 - val_acc: 0.9188\n",
      "Epoch 67/100\n",
      "1696/1696 [==============================] - 5s 3ms/sample - loss: 0.0291 - acc: 0.9900 - val_loss: 0.4379 - val_acc: 0.9230\n",
      "Epoch 68/100\n",
      "1696/1696 [==============================] - 5s 3ms/sample - loss: 0.0499 - acc: 0.9811 - val_loss: 0.3832 - val_acc: 0.9188\n",
      "Epoch 69/100\n",
      "1696/1696 [==============================] - 5s 3ms/sample - loss: 0.0310 - acc: 0.9906 - val_loss: 0.3656 - val_acc: 0.9326\n",
      "Epoch 70/100\n",
      "1696/1696 [==============================] - 5s 3ms/sample - loss: 0.0249 - acc: 0.9912 - val_loss: 0.3564 - val_acc: 0.9175\n",
      "Epoch 71/100\n",
      "1696/1696 [==============================] - 5s 3ms/sample - loss: 0.0421 - acc: 0.9858 - val_loss: 0.3881 - val_acc: 0.9202\n",
      "Epoch 72/100\n",
      "1696/1696 [==============================] - 5s 3ms/sample - loss: 0.0367 - acc: 0.9900 - val_loss: 0.4135 - val_acc: 0.9188\n",
      "Epoch 73/100\n",
      "1696/1696 [==============================] - 6s 4ms/sample - loss: 0.0488 - acc: 0.9823 - val_loss: 0.3195 - val_acc: 0.9188\n",
      "Epoch 74/100\n",
      "1696/1696 [==============================] - 6s 3ms/sample - loss: 0.0411 - acc: 0.9858 - val_loss: 0.3368 - val_acc: 0.9257\n",
      "Epoch 75/100\n",
      "1696/1696 [==============================] - 6s 3ms/sample - loss: 0.0292 - acc: 0.9917 - val_loss: 0.3947 - val_acc: 0.9257\n",
      "Epoch 76/100\n",
      "1696/1696 [==============================] - 6s 4ms/sample - loss: 0.0244 - acc: 0.9894 - val_loss: 0.4256 - val_acc: 0.9120\n",
      "Epoch 77/100\n",
      "1696/1696 [==============================] - 6s 4ms/sample - loss: 0.0299 - acc: 0.9882 - val_loss: 0.4022 - val_acc: 0.9188\n",
      "Epoch 78/100\n",
      "1696/1696 [==============================] - 5s 3ms/sample - loss: 0.0365 - acc: 0.9847 - val_loss: 0.3936 - val_acc: 0.9161\n",
      "Epoch 79/100\n",
      "1696/1696 [==============================] - 6s 3ms/sample - loss: 0.0268 - acc: 0.9906 - val_loss: 0.3952 - val_acc: 0.9078\n",
      "Epoch 80/100\n",
      "1696/1696 [==============================] - 5s 3ms/sample - loss: 0.0316 - acc: 0.9888 - val_loss: 0.3634 - val_acc: 0.9147\n",
      "Epoch 81/100\n",
      "1696/1696 [==============================] - 6s 3ms/sample - loss: 0.0379 - acc: 0.9900 - val_loss: 0.3164 - val_acc: 0.9257\n",
      "Epoch 82/100\n",
      "1696/1696 [==============================] - 5s 3ms/sample - loss: 0.0413 - acc: 0.9858 - val_loss: 0.3424 - val_acc: 0.9257\n",
      "Epoch 83/100\n",
      "1696/1696 [==============================] - 6s 3ms/sample - loss: 0.0336 - acc: 0.9882 - val_loss: 0.3463 - val_acc: 0.9271\n",
      "Epoch 84/100\n",
      "1696/1696 [==============================] - 6s 3ms/sample - loss: 0.0382 - acc: 0.9900 - val_loss: 0.3652 - val_acc: 0.9202\n",
      "Epoch 85/100\n",
      "1696/1696 [==============================] - 6s 3ms/sample - loss: 0.0338 - acc: 0.9882 - val_loss: 0.3574 - val_acc: 0.9216\n",
      "Epoch 86/100\n",
      "1696/1696 [==============================] - 5s 3ms/sample - loss: 0.0245 - acc: 0.9935 - val_loss: 0.4102 - val_acc: 0.9216\n",
      "Epoch 87/100\n",
      "1696/1696 [==============================] - 6s 3ms/sample - loss: 0.0328 - acc: 0.9894 - val_loss: 0.4068 - val_acc: 0.9326\n",
      "Epoch 88/100\n",
      "1696/1696 [==============================] - 6s 3ms/sample - loss: 0.0338 - acc: 0.9876 - val_loss: 0.3870 - val_acc: 0.9243\n",
      "Epoch 89/100\n",
      "1696/1696 [==============================] - 6s 3ms/sample - loss: 0.0243 - acc: 0.9923 - val_loss: 0.3938 - val_acc: 0.9243\n",
      "Epoch 90/100\n",
      "1696/1696 [==============================] - 6s 3ms/sample - loss: 0.0213 - acc: 0.9929 - val_loss: 0.4541 - val_acc: 0.9230\n",
      "Epoch 91/100\n",
      "1696/1696 [==============================] - 5s 3ms/sample - loss: 0.0272 - acc: 0.9906 - val_loss: 0.4026 - val_acc: 0.9285\n",
      "Epoch 92/100\n",
      "1696/1696 [==============================] - 5s 3ms/sample - loss: 0.0191 - acc: 0.9917 - val_loss: 0.4408 - val_acc: 0.9257\n",
      "Epoch 93/100\n",
      "1696/1696 [==============================] - 6s 3ms/sample - loss: 0.0375 - acc: 0.9876 - val_loss: 0.3968 - val_acc: 0.9202\n",
      "Epoch 94/100\n",
      "1696/1696 [==============================] - 6s 3ms/sample - loss: 0.0422 - acc: 0.9858 - val_loss: 0.3609 - val_acc: 0.9188\n",
      "Epoch 95/100\n",
      "1696/1696 [==============================] - 6s 3ms/sample - loss: 0.0315 - acc: 0.9882 - val_loss: 0.3953 - val_acc: 0.9257\n",
      "Epoch 96/100\n",
      "1696/1696 [==============================] - 6s 3ms/sample - loss: 0.0365 - acc: 0.9882 - val_loss: 0.3923 - val_acc: 0.9188\n",
      "Epoch 97/100\n",
      "1696/1696 [==============================] - 5s 3ms/sample - loss: 0.0349 - acc: 0.9870 - val_loss: 0.3651 - val_acc: 0.9271\n",
      "Epoch 98/100\n",
      "1696/1696 [==============================] - 5s 3ms/sample - loss: 0.0255 - acc: 0.9929 - val_loss: 0.4050 - val_acc: 0.9243\n",
      "Epoch 99/100\n",
      "1696/1696 [==============================] - 5s 3ms/sample - loss: 0.0127 - acc: 0.9953 - val_loss: 0.4207 - val_acc: 0.9216\n",
      "Epoch 100/100\n",
      "1696/1696 [==============================] - 6s 3ms/sample - loss: 0.0313 - acc: 0.9900 - val_loss: 0.3763 - val_acc: 0.9340\n"
     ]
    }
   ],
   "source": [
    "history = model.fit(X, Y, batch_size=32, epochs=100,validation_split=0.3)\n",
    "# model.fit_generator(datagen.flow(X, Y, batch_size=32),\n",
    "#                     epochs=100,\n",
    "#                     verbose=1)\n"
   ]
  },
  {
   "cell_type": "code",
   "execution_count": 21,
   "metadata": {},
   "outputs": [],
   "source": [
    "model.save('TrainedModels/Fire-64x64-color-v7.1-soft.h5')"
   ]
  },
  {
   "cell_type": "code",
   "execution_count": 26,
   "metadata": {},
   "outputs": [
    {
     "data": {
      "image/png": "[encoded data removed]",
      "text/plain": [
       "<Figure size 432x288 with 1 Axes>"
      ]
     },
     "metadata": {
      "needs_background": "light"
     },
     "output_type": "display_data"
    }
   ],
   "source": [
    "from matplotlib import pyplot as plt\n",
    "plt.plot(history.history['acc'])\n",
    "plt.plot(history.history['val_acc'])\n",
    "plt.title('model accuracy')\n",
    "plt.ylabel('accuracy')\n",
    "plt.xlabel('epoch')\n",
    "plt.legend(['train', 'validation'], loc='upper left')\n",
    "plt.show()"
   ]
  },
  {
   "cell_type": "code",
   "execution_count": 27,
   "metadata": {},
   "outputs": [
    {
     "data": {
      "image/png": "[encoded data removed]",
      "text/plain": [
       "<Figure size 432x288 with 1 Axes>"
      ]
     },
     "metadata": {
      "needs_background": "light"
     },
     "output_type": "display_data"
    }
   ],
   "source": [
    "plt.plot(history.history['loss'])\n",
    "plt.plot(history.history['val_loss'])\n",
    "plt.title('model loss')\n",
    "plt.ylabel('loss')\n",
    "plt.xlabel('epoch')\n",
    "plt.legend(['train', 'validation'], loc='upper left')\n",
    "plt.show()"
   ]
  },
  {
   "cell_type": "code",
   "execution_count": 1,
   "metadata": {},
   "outputs": [
    {
     "name": "stdout",
     "output_type": "stream",
     "text": [
      "WARNING:tensorflow:From /home/padfoot7/.virtualenvs/cv/lib/python3.5/site-packages/tensorflow/python/ops/resource_variable_ops.py:435: colocate_with (from tensorflow.python.framework.ops) is deprecated and will be removed in a future version.\n",
      "Instructions for updating:\n",
      "Colocations handled automatically by placer.\n",
      "WARNING:tensorflow:From /home/padfoot7/.virtualenvs/cv/lib/python3.5/site-packages/tensorflow/python/keras/layers/core.py:143: calling dropout (from tensorflow.python.ops.nn_ops) with keep_prob is deprecated and will be removed in a future version.\n",
      "Instructions for updating:\n",
      "Please use `rate` instead of `keep_prob`. Rate should be set to `rate = 1 - keep_prob`.\n"
     ]
    }
   ],
   "source": [
    "import tensorflow as tf\n",
    "from tensorflow.keras.utils import plot_model\n",
    "model = tf.keras.models.load_model('TrainedModels/Fire-64x64-color-v7-soft.h5')\n",
    "\n",
    "# model.fit_generator(datagen.flow(X, Y, batch_size=32),\n",
    "#                     epochs=100,\n",
    "#                   verbose=1)"
   ]
  },
  {
   "cell_type": "code",
   "execution_count": 33,
   "metadata": {},
   "outputs": [],
   "source": [
    "# plot_model(model, to_file='model_small.svg', show_layer_names=False, show_shapes=True)"
   ]
  },
  {
   "cell_type": "code",
   "execution_count": 7,
   "metadata": {},
   "outputs": [
    {
     "name": "stdout",
     "output_type": "stream",
     "text": [
      "_________________________________________________________________\n",
      "Layer (type)                 Output Shape              Param #   \n",
      "=================================================================\n",
      "conv2d_3 (Conv2D)            (None, 62, 62, 16)        448       \n",
      "_________________________________________________________________\n",
      "average_pooling2d_3 (Average (None, 31, 31, 16)        0         \n",
      "_________________________________________________________________\n",
      "dropout_5 (Dropout)          (None, 31, 31, 16)        0         \n",
      "_________________________________________________________________\n",
      "conv2d_4 (Conv2D)            (None, 29, 29, 32)        4640      \n",
      "_________________________________________________________________\n",
      "average_pooling2d_4 (Average (None, 14, 14, 32)        0         \n",
      "_________________________________________________________________\n",
      "dropout_6 (Dropout)          (None, 14, 14, 32)        0         \n",
      "_________________________________________________________________\n",
      "conv2d_5 (Conv2D)            (None, 12, 12, 64)        18496     \n",
      "_________________________________________________________________\n",
      "average_pooling2d_5 (Average (None, 6, 6, 64)          0         \n",
      "_________________________________________________________________\n",
      "dropout_7 (Dropout)          (None, 6, 6, 64)          0         \n",
      "_________________________________________________________________\n",
      "flatten_1 (Flatten)          (None, 2304)              0         \n",
      "_________________________________________________________________\n",
      "dense_3 (Dense)              (None, 256)               590080    \n",
      "_________________________________________________________________\n",
      "dropout_8 (Dropout)          (None, 256)               0         \n",
      "_________________________________________________________________\n",
      "dense_4 (Dense)              (None, 128)               32896     \n",
      "_________________________________________________________________\n",
      "dense_5 (Dense)              (None, 2)                 258       \n",
      "=================================================================\n",
      "Total params: 646,818\n",
      "Trainable params: 646,818\n",
      "Non-trainable params: 0\n",
      "_________________________________________________________________\n"
     ]
    }
   ],
   "source": [
    "\n"
   ]
  },
  {
   "cell_type": "code",
   "execution_count": null,
   "metadata": {},
   "outputs": [],
   "source": []
  }
 ],
 "metadata": {
  "kernelspec": {
   "display_name": "cv",
   "language": "python",
   "name": "cv"
  },
  "language_info": {
   "codemirror_mode": {
    "name": "ipython",
    "version": 3
   },
   "file_extension": ".py",
   "mimetype": "text/x-python",
   "name": "python",
   "nbconvert_exporter": "python",
   "pygments_lexer": "ipython3",
   "version": "3.5.2"
  }
 },
 "nbformat": 4,
 "nbformat_minor": 2
}
